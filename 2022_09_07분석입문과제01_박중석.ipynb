{
  "nbformat": 4,
  "nbformat_minor": 0,
  "metadata": {
    "colab": {
      "provenance": [],
      "authorship_tag": "ABX9TyObqPqAYZ6pV3K7f89C29Ry",
      "include_colab_link": true
    },
    "kernelspec": {
      "name": "python3",
      "display_name": "Python 3"
    },
    "language_info": {
      "name": "python"
    }
  },
  "cells": [
    {
      "cell_type": "markdown",
      "metadata": {
        "id": "view-in-github",
        "colab_type": "text"
      },
      "source": [
        "<a href=\"https://colab.research.google.com/github/JoongseokPark/BigData_analysis_Joongseok/blob/main/2022_09_07%EB%B6%84%EC%84%9D%EC%9E%85%EB%AC%B8%EA%B3%BC%EC%A0%9C01_%EB%B0%95%EC%A4%91%EC%84%9D.ipynb\" target=\"_parent\"><img src=\"https://colab.research.google.com/assets/colab-badge.svg\" alt=\"Open In Colab\"/></a>"
      ]
    },
    {
      "cell_type": "code",
      "source": [
        "import numpy as np"
      ],
      "metadata": {
        "id": "QZVKxb0EyVt9"
      },
      "execution_count": null,
      "outputs": []
    },
    {
      "cell_type": "code",
      "execution_count": null,
      "metadata": {
        "id": "nxsdzvcBwH45"
      },
      "outputs": [],
      "source": [
        "x = int(input())\n",
        "y = int(input())\n",
        "\n",
        "if 0 == x%2:\n",
        "  print('x는 짝수')\n",
        "else:\n",
        "  print('x는 홀수')\n",
        "\n",
        "if 0 == y%2:\n",
        "  print('y는 짝수')\n",
        "else:\n",
        "  print('y는 홀수')"
      ]
    },
    {
      "cell_type": "code",
      "source": [
        "a = int(input())\n",
        "b = int(input())\n",
        "c = int(input())\n",
        "\n",
        "z = [a,b,c]\n",
        "w = np.sort(z,axis=- 1, kind='quicksort', order=None)\n",
        "\n",
        "print('numbers are {} , {} , {}\\n'.format(w[0],w[1],w[2]))\n",
        "print('a = {}\\nb = {}\\nc = {}\\n'.format(a**2,b**2,c**2))\n",
        "print('a = {}\\nb = {}\\nc = {}\\n'.format(np.sqrt(a),np.sqrt(b),np.sqrt(c)))"
      ],
      "metadata": {
        "colab": {
          "base_uri": "https://localhost:8080/"
        },
        "id": "EyNMDE3Kw6Zl",
        "outputId": "eecd88e1-3025-456c-bb0c-e1b643aaa296"
      },
      "execution_count": null,
      "outputs": [
        {
          "output_type": "stream",
          "name": "stdout",
          "text": [
            "256\n",
            "144\n",
            "81\n",
            "numbers are 81 , 144 , 256\n",
            "\n",
            "a = 65536\n",
            "b = 20736\n",
            "c = 6561\n",
            "\n",
            "a = 16.0\n",
            "b = 12.0\n",
            "c = 9.0\n",
            "\n"
          ]
        }
      ]
    },
    {
      "cell_type": "code",
      "source": [
        "week = '월화수목금토일'\n",
        "\n",
        "for day in week:\n",
        "  print('{}요일은 맛있는 점심 먹는 날'.format(day))"
      ],
      "metadata": {
        "colab": {
          "base_uri": "https://localhost:8080/"
        },
        "id": "qEC1bj84V70U",
        "outputId": "9a4e660b-19a9-4cf7-89d0-09eea0bc5540"
      },
      "execution_count": null,
      "outputs": [
        {
          "output_type": "stream",
          "name": "stdout",
          "text": [
            "월요일은 맛있는 점심 먹는 날\n",
            "화요일은 맛있는 점심 먹는 날\n",
            "수요일은 맛있는 점심 먹는 날\n",
            "목요일은 맛있는 점심 먹는 날\n",
            "금요일은 맛있는 점심 먹는 날\n",
            "토요일은 맛있는 점심 먹는 날\n",
            "일요일은 맛있는 점심 먹는 날\n"
          ]
        }
      ]
    },
    {
      "cell_type": "code",
      "source": [
        "for i in range(0,100,3):\n",
        "  print(i)"
      ],
      "metadata": {
        "id": "B9dCLxThWbLi"
      },
      "execution_count": null,
      "outputs": []
    },
    {
      "cell_type": "code",
      "source": [
        "for i in range(50):\n",
        "  a+=i\n",
        "\n",
        "print(a)\n",
        "a = 0"
      ],
      "metadata": {
        "colab": {
          "base_uri": "https://localhost:8080/"
        },
        "id": "Hqg7PGRhWwBb",
        "outputId": "0158f3c9-023e-4e7e-c9f5-5a99a20ff445"
      },
      "execution_count": null,
      "outputs": [
        {
          "output_type": "stream",
          "name": "stdout",
          "text": [
            "1225\n"
          ]
        }
      ]
    },
    {
      "cell_type": "code",
      "source": [
        "for i in range(5):\n",
        "  print('[{}]'.format(i))"
      ],
      "metadata": {
        "colab": {
          "base_uri": "https://localhost:8080/"
        },
        "id": "W-_-NUyxXkeO",
        "outputId": "ed6b50a3-6b94-472d-e95e-4898a64beb1a"
      },
      "execution_count": null,
      "outputs": [
        {
          "output_type": "stream",
          "name": "stdout",
          "text": [
            "[0]\n",
            "[1]\n",
            "[2]\n",
            "[3]\n",
            "[4]\n"
          ]
        }
      ]
    },
    {
      "cell_type": "code",
      "source": [
        "for i in range(101):\n",
        "  a+=i\n",
        "\n",
        "print(a)\n",
        "a = 0"
      ],
      "metadata": {
        "colab": {
          "base_uri": "https://localhost:8080/"
        },
        "id": "VbxWO6xUXyM0",
        "outputId": "6afb6aea-4157-48ac-fa4b-8acf31c36eb5"
      },
      "execution_count": null,
      "outputs": [
        {
          "output_type": "stream",
          "name": "stdout",
          "text": [
            "5050\n"
          ]
        }
      ]
    },
    {
      "cell_type": "code",
      "source": [
        "for i in range(1,100,2):\n",
        "  print(i)\n",
        "  a+=i\n",
        "\n",
        "print(a)\n",
        "a = 0"
      ],
      "metadata": {
        "id": "vBIBOypAX7EE"
      },
      "execution_count": null,
      "outputs": []
    },
    {
      "cell_type": "code",
      "source": [
        "for i in range(0,101,2):\n",
        "  print(i)\n",
        "  a+=i\n",
        "\n",
        "print(a)\n",
        "a = 0"
      ],
      "metadata": {
        "id": "Ntl71BZ5YGEU"
      },
      "execution_count": null,
      "outputs": []
    },
    {
      "cell_type": "code",
      "source": [
        "q = []\n",
        "for i in range(5):\n",
        "  q.append(i**2)\n",
        "print(q)"
      ],
      "metadata": {
        "colab": {
          "base_uri": "https://localhost:8080/"
        },
        "id": "Yk9ejww1YyYV",
        "outputId": "19d495cb-eb3d-4377-991e-ee0f3f463473"
      },
      "execution_count": null,
      "outputs": [
        {
          "output_type": "stream",
          "name": "stdout",
          "text": [
            "[0, 1, 4, 9, 16]\n"
          ]
        }
      ]
    },
    {
      "cell_type": "code",
      "source": [
        "fruits = ['apple','orange','melon','grape','banana']\n",
        "a = list(enumerate(fruits))\n",
        "print(a)"
      ],
      "metadata": {
        "colab": {
          "base_uri": "https://localhost:8080/"
        },
        "id": "ArBAzPB7ZCTz",
        "outputId": "a1d5dec7-126f-42d6-ebbf-e34b0cb690db"
      },
      "execution_count": null,
      "outputs": [
        {
          "output_type": "stream",
          "name": "stdout",
          "text": [
            "[(0, 'apple'), (1, 'orange'), (2, 'melon'), (3, 'grape'), (4, 'banana')]\n"
          ]
        }
      ]
    },
    {
      "cell_type": "code",
      "source": [
        "a = ['오이','상추','고추']\n",
        "b = ['사과','수박']\n",
        "c = ['닭','소','돼지']\n",
        "d = input()\n",
        "\n",
        "if d in a:\n",
        "  print(d,\"is vege\")\n",
        "elif d in b:\n",
        "  print(d,\"is fruits\")\n",
        "elif d in c:\n",
        "  print(d,\"is livestock\")\n",
        "else:\n",
        "  print(\"is not of anything\")\n",
        "  "
      ],
      "metadata": {
        "colab": {
          "base_uri": "https://localhost:8080/"
        },
        "id": "XHTFCBKYa07o",
        "outputId": "6ee89a93-14ef-47c8-8144-f8c0bea4fea5"
      },
      "execution_count": null,
      "outputs": [
        {
          "output_type": "stream",
          "name": "stdout",
          "text": [
            "오이\n",
            "오이 is vege\n"
          ]
        }
      ]
    },
    {
      "cell_type": "code",
      "source": [
        "print(\"insert password\")\n",
        "psw = int(input())\n",
        "\n",
        "if psw == 1234:\n",
        "  print(\"success login\")\n",
        "else:\n",
        "  print(\"fail login\")\n"
      ],
      "metadata": {
        "colab": {
          "base_uri": "https://localhost:8080/"
        },
        "id": "j7DzUiJncXEh",
        "outputId": "9644983c-983d-41bb-982d-eece6280fb3a"
      },
      "execution_count": null,
      "outputs": [
        {
          "output_type": "stream",
          "name": "stdout",
          "text": [
            "insert password\n",
            "1548\n",
            "fail login\n"
          ]
        }
      ]
    },
    {
      "cell_type": "code",
      "source": [
        "i = 1\n",
        "j =1\n",
        "\n",
        "for i in range(1,4):\n",
        "  for j in range(1,10):\n",
        "    print(\"{} X {} = {}\".format(i,j,i*j))\n",
        "  print(\"\\n\")"
      ],
      "metadata": {
        "colab": {
          "base_uri": "https://localhost:8080/"
        },
        "id": "IMhV6mwccym2",
        "outputId": "79a376bc-bc4d-4cd9-8e6a-90904cc1d84e"
      },
      "execution_count": null,
      "outputs": [
        {
          "output_type": "stream",
          "name": "stdout",
          "text": [
            "1 X 1 = 1\n",
            "1 X 2 = 2\n",
            "1 X 3 = 3\n",
            "1 X 4 = 4\n",
            "1 X 5 = 5\n",
            "1 X 6 = 6\n",
            "1 X 7 = 7\n",
            "1 X 8 = 8\n",
            "1 X 9 = 9\n",
            "\n",
            "\n",
            "2 X 1 = 2\n",
            "2 X 2 = 4\n",
            "2 X 3 = 6\n",
            "2 X 4 = 8\n",
            "2 X 5 = 10\n",
            "2 X 6 = 12\n",
            "2 X 7 = 14\n",
            "2 X 8 = 16\n",
            "2 X 9 = 18\n",
            "\n",
            "\n",
            "3 X 1 = 3\n",
            "3 X 2 = 6\n",
            "3 X 3 = 9\n",
            "3 X 4 = 12\n",
            "3 X 5 = 15\n",
            "3 X 6 = 18\n",
            "3 X 7 = 21\n",
            "3 X 8 = 24\n",
            "3 X 9 = 27\n",
            "\n",
            "\n"
          ]
        }
      ]
    }
  ]
}
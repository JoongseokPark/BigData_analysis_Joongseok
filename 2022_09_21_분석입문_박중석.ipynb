{
  "nbformat": 4,
  "nbformat_minor": 0,
  "metadata": {
    "colab": {
      "private_outputs": true,
      "provenance": [],
      "collapsed_sections": [],
      "mount_file_id": "1s0DF-D9ZIFUDs1mgnfiOEI9rAxMLBnyz",
      "authorship_tag": "ABX9TyM3nF2vircxjfjqe3MkhCiA",
      "include_colab_link": true
    },
    "kernelspec": {
      "name": "python3",
      "display_name": "Python 3"
    },
    "language_info": {
      "name": "python"
    },
    "accelerator": "GPU"
  },
  "cells": [
    {
      "cell_type": "markdown",
      "metadata": {
        "id": "view-in-github",
        "colab_type": "text"
      },
      "source": [
        "<a href=\"https://colab.research.google.com/github/JoongseokPark/BigData_analysis_Joongseok/blob/main/2022_09_21_%EB%B6%84%EC%84%9D%EC%9E%85%EB%AC%B8_%EB%B0%95%EC%A4%91%EC%84%9D.ipynb\" target=\"_parent\"><img src=\"https://colab.research.google.com/assets/colab-badge.svg\" alt=\"Open In Colab\"/></a>"
      ]
    },
    {
      "cell_type": "code",
      "source": [
        "import matplotlib.pyplot as plt\n",
        "import csv\n",
        "\n",
        "#기상정보 포탈에서 태어난 지역의 기상 데이터를 가장 넓은 범위로 설치\n",
        "#경로 복사하여 아래 ' ' 사이에 붙여넣기\n",
        "b = open('/content/drive/MyDrive/파이썬/데이터 분석/wonju_temp.csv', encoding='cp949')\n",
        "data_temp = csv.reader(b)\n",
        "\n",
        "#데이터 첫 줄의 '일자','최고 기온' 등 숫자가 아닌 데이터를 넘김\n",
        "next(data_temp)\n",
        "\n",
        "\n",
        "#1번\n",
        "max_temp = 0  #최고 온도 초기값\n",
        "max_data = '' #최고 기온 날짜\n",
        "\n",
        "#2번\n",
        "min_temp = 0 #최저 기온 초기값\n",
        "min_data = ''#최저 기온 날짜\n",
        "\n",
        "#3번\n",
        "mean_temp = [] #평균 기온 초기값\n",
        "mean_data = [] #평균 기온 날짜\n",
        "\n",
        "#4번\n",
        "aug_max = 0 #8월 최고 기온\n",
        "aug_max_date = '' #8월 최고 기온 날짜\n",
        "\n",
        "#5번\n",
        "aug_min = 999 #8월 최저 기온\n",
        "aug_min_date = '' #8월 최저 기온 날짜\n",
        "\n",
        "#6번\n",
        "aug_mean = [] #8월 평균 기온\n",
        "aug_mean_date = [] #8월 평균 기온 날짜\n",
        "\n",
        "#7번\n",
        "birthday_tmp = [] #생일 기온 리스트\n",
        "birthday_tmp_date = []\n",
        "\n",
        "#8번\n",
        "act_bd_temp = [] #2002년 생일의 기온\n",
        "\n",
        "rep = 0\n",
        "\n",
        "for row in data_temp:\n",
        "  if row[-1] == '':\n",
        "    row[-1] = -999\n",
        "\n",
        "  if row[-2] == '':\n",
        "    row[-2] = 999\n",
        "\n",
        "  row[-1] = float(row[-1])\n",
        "  row[-2] = float(row[-2])\n",
        "  row[-3] = float(row[-3])\n",
        "  \n",
        "\n",
        "  if max_temp < row[-1]:  ##최고 기온 새로고침\n",
        "    max_data = row[0]\n",
        "    max_temp = row[-1]\n",
        "\n",
        "  if min_temp > row[-2]:  ##최저 기온 새로고침\n",
        "    min_data = row[0]\n",
        "    min_temp = row[-2]\n",
        "\n",
        "   ##평균 기온 새로고침\n",
        "  mean_temp.append(row[-3])\n",
        "  mean_data.append(row[0])\n",
        "\n",
        "\n",
        "#데이터의 row[0]은 날짜가 1978-08-25 식으로 나타나므로 \n",
        "#'-'로 나누어 월에 해당하는 조건을 확인한다 \n",
        "  if row[0].split('-')[1] == '08':\n",
        "\n",
        "    if aug_max < row[-1]:  ##최고 기온 새로고침\n",
        "      aug_max_date = row[0]\n",
        "      aug_max = row[-1]\n",
        "\n",
        "    if aug_min > row[-2]:  ##최저 기온 새로고침\n",
        "      aug_min_date = row[0]\n",
        "      aug_min = row[-2]\n",
        "\n",
        "    aug_mean.append(row[-3])\n",
        "    aug_mean_date.append(row[0])\n",
        "\n",
        "\n",
        "#생일에 맞춰서 조건 변환\n",
        "  if row[0].split('-')[1] == '09' and row[0].split('-')[2] == '21':\n",
        "    birthday_tmp.append(row[-3])\n",
        "    birthday_tmp_date.append(row[0])\n",
        "\n",
        "#동일하게 변환\n",
        "  if row[0].split('-')[0] == '2002' and row[0].split('-')[1] == '09' and row[0].split('-')[2] == '21':\n",
        "    act_bd_temp = row\n",
        "\n",
        "##시각화 단계\n",
        "# 아직 시각화는 잘 모르겠다 돌아는 가는데 이상하게 보임\n",
        "\n",
        "print(\"최고 기온\",max_data,max_temp,'\\n')\n",
        "print(\"최저 기온\",min_data,min_temp,'\\n')\n",
        "\n",
        "print(\"8월 최고 기온\",aug_max_date,aug_max,'\\n')\n",
        "print(\"8월 최저 기온\",aug_min_date,aug_min,'\\n')\n",
        "\n",
        "print(\"태어난 날의 기온\",act_bd_temp,'\\n')\n"
      ],
      "metadata": {
        "id": "DCRK0ZjvfLnN"
      },
      "execution_count": null,
      "outputs": []
    },
    {
      "cell_type": "code",
      "source": [
        "plt.figure(figsize=(100,20))\n",
        "plt.plot(mean_temp,'r') # 평균 기온\n",
        "plt.xlabel('Date [Day]')\n",
        "plt.ylabel('Temperture [*c]')"
      ],
      "metadata": {
        "id": "6jKTIj8FHETM"
      },
      "execution_count": null,
      "outputs": []
    },
    {
      "cell_type": "code",
      "source": [
        "plt.figure(figsize=(40,10))\n",
        "plt.plot(aug_mean,'b') # 8월 평균 기온\n",
        "plt.xlabel('Date [Day]')\n",
        "plt.ylabel('Temperture [*c]')"
      ],
      "metadata": {
        "id": "DNixrHCYH0Am"
      },
      "execution_count": null,
      "outputs": []
    },
    {
      "cell_type": "code",
      "source": [
        "plt.plot(birthday_tmp,'skyblue') # 생일인 날의 기온\n",
        "plt.xlabel('Date [Day]')\n",
        "plt.ylabel('Temperture [*c]')"
      ],
      "metadata": {
        "id": "KpbdDqzVH9HG"
      },
      "execution_count": null,
      "outputs": []
    }
  ]
}
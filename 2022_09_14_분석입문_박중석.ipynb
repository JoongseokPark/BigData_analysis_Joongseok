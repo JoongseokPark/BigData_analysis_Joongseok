{
  "nbformat": 4,
  "nbformat_minor": 0,
  "metadata": {
    "colab": {
      "private_outputs": true,
      "provenance": [],
      "authorship_tag": "ABX9TyPjqKsa+Sr9yX86AH+J5/IO",
      "include_colab_link": true
    },
    "kernelspec": {
      "name": "python3",
      "display_name": "Python 3"
    },
    "language_info": {
      "name": "python"
    }
  },
  "cells": [
    {
      "cell_type": "markdown",
      "metadata": {
        "id": "view-in-github",
        "colab_type": "text"
      },
      "source": [
        "<a href=\"https://colab.research.google.com/github/JoongseokPark/BigData_analysis_Joongseok/blob/main/2022_09_14_%EB%B6%84%EC%84%9D%EC%9E%85%EB%AC%B8_%EB%B0%95%EC%A4%91%EC%84%9D.ipynb\" target=\"_parent\"><img src=\"https://colab.research.google.com/assets/colab-badge.svg\" alt=\"Open In Colab\"/></a>"
      ]
    },
    {
      "cell_type": "code",
      "execution_count": null,
      "metadata": {
        "id": "9rBT2YeTfmGB"
      },
      "outputs": [],
      "source": [
        "fruits = ['apple','orange','melon','grape','banana']\n",
        "a = list(enumerate(fruits))\n",
        "print(a)"
      ]
    },
    {
      "cell_type": "code",
      "source": [
        "s = \"hello python\"\n",
        "\n",
        "print(s.split())"
      ],
      "metadata": {
        "id": "BzMaAu7wfyIi"
      },
      "execution_count": null,
      "outputs": []
    },
    {
      "cell_type": "code",
      "source": [
        "date = \"2022-09-14\"\n",
        "\n",
        "print(date.split(\"-\"))"
      ],
      "metadata": {
        "id": "yoUHiPVHgEgI"
      },
      "execution_count": null,
      "outputs": []
    },
    {
      "cell_type": "code",
      "source": [
        "print(date.split(\"-\")[-1])  ## 나누어준 문자열의 인덱스 표현, -1로 맨 뒤의 날짜 문자만 출력"
      ],
      "metadata": {
        "id": "vZSatq2PghpK"
      },
      "execution_count": null,
      "outputs": []
    },
    {
      "cell_type": "code",
      "source": [
        "b=[]\n",
        "\n",
        "for i in range(5):\n",
        "  b.append(i**2)\n",
        "print(b)"
      ],
      "metadata": {
        "id": "7VBSFo-Zo2BJ"
      },
      "execution_count": null,
      "outputs": []
    },
    {
      "cell_type": "code",
      "source": [
        "import csv\n",
        "import matplotlib.pyplot as plt\n",
        "import numpy as np\n",
        "import pandas as pd\n"
      ],
      "metadata": {
        "id": "eVqlECeehshr"
      },
      "execution_count": null,
      "outputs": []
    },
    {
      "cell_type": "code",
      "source": [
        "f = open('/content/sample_data/ta_20220914121142.csv', encoding='cp949')\n",
        "data = csv.reader(f)"
      ],
      "metadata": {
        "id": "2aLKzMyEjh71"
      },
      "execution_count": null,
      "outputs": []
    },
    {
      "cell_type": "code",
      "source": [
        "df_seoul_temp = pd.DataFrame(data)"
      ],
      "metadata": {
        "id": "pvqXAyVLj3Gl"
      },
      "execution_count": null,
      "outputs": []
    },
    {
      "cell_type": "code",
      "source": [
        "df_head = df_seoul_temp.head()\n",
        "print(df_head)"
      ],
      "metadata": {
        "id": "MHrIHWgCkDGc"
      },
      "execution_count": null,
      "outputs": []
    },
    {
      "cell_type": "code",
      "source": [
        "for row in data:\n",
        "  print(row)"
      ],
      "metadata": {
        "id": "vR1CgCnik-Sn"
      },
      "execution_count": null,
      "outputs": []
    },
    {
      "cell_type": "code",
      "source": [
        "b = open('/content/sample_data/ta_20220914121142.csv', encoding='cp949')\n",
        "data_temp = csv.reader(b)"
      ],
      "metadata": {
        "id": "PH_WhuPvmHHE"
      },
      "execution_count": null,
      "outputs": []
    },
    {
      "cell_type": "code",
      "source": [
        "df_wonju_temp = pd.DataFrame(data_temp)"
      ],
      "metadata": {
        "id": "1Ol5V8nHmS5g"
      },
      "execution_count": null,
      "outputs": []
    },
    {
      "cell_type": "code",
      "source": [
        "df_head2 = df_wonju_temp.head()\n",
        "print(df_head2)"
      ],
      "metadata": {
        "id": "IaW1GNiUmgJ8"
      },
      "execution_count": null,
      "outputs": []
    },
    {
      "cell_type": "code",
      "source": [
        "next(data_temp)\n",
        "for row in data:\n",
        "  print(row[-1])\n",
        "  break"
      ],
      "metadata": {
        "id": "4Pkp9tUWmj95"
      },
      "execution_count": null,
      "outputs": []
    },
    {
      "cell_type": "code",
      "source": [
        "import csv\n",
        "b = open('/content/sample_data/ta_20220914121142.csv', encoding='cp949')\n",
        "data_temp = csv.reader(b)\n",
        "\n",
        "next(data_temp)\n",
        "for row in data_temp:\n",
        "  print(row[-1])\n"
      ],
      "metadata": {
        "id": "4laG05V4n5Ic"
      },
      "execution_count": null,
      "outputs": []
    },
    {
      "cell_type": "code",
      "source": [
        "import matplotlib.pyplot as plt\n",
        "plt.plot(mx_temp)\n",
        "plt.show(mx_temp)\n",
        "plt.figure(figsize = (100,2))"
      ],
      "metadata": {
        "id": "1A1QWDUyq_53"
      },
      "execution_count": null,
      "outputs": []
    },
    {
      "cell_type": "code",
      "source": [
        "##2022-09-14 분석 입문 과제 \"최고 기온 구하기\"\n",
        "\n",
        "import csv\n",
        "b = open('/content/sample_data/ta_20220914121142.csv', encoding='cp949')\n",
        "data_temp = csv.reader(b)\n",
        "header = next(data_temp)\n",
        "max_temp = 0  #온도 초기값\n",
        "max_data = '' #날짜 초기값\n",
        "for row in data_temp:\n",
        "  if row[-1] == '':\n",
        "    row[-1] = -999\n",
        "  row[-1] = float(row[-1])\n",
        "  if max_temp < row[-1]:\n",
        "    max_data = row[0]\n",
        "    max_temp = row[-1]\n",
        "\n",
        "b.close()\n",
        "print(\"최고 기온\",max_data,max_temp)"
      ],
      "metadata": {
        "id": "GKn9EHA9pgH1"
      },
      "execution_count": null,
      "outputs": []
    },
    {
      "cell_type": "code",
      "source": [
        "##2022-09-14 분석 입문 과제 \"최저 기온 구하기\"\n",
        "\n",
        "import csv\n",
        "b = open('/content/sample_data/ta_20220914121142.csv', encoding='cp949')\n",
        "data_temp = csv.reader(b)\n",
        "header = next(data_temp)\n",
        "max_temp = 0\n",
        "max_data = ''\n",
        "for row in data_temp:\n",
        "  if row[-2] == '':\n",
        "    row[-2] = 999\n",
        "  row[-2] = float(row[-2])\n",
        "  if max_temp > row[-2]:\n",
        "    max_data = row[0]\n",
        "    max_temp = row[-2]\n",
        "\n",
        "b.close()\n",
        "print(\"최저 기온\",max_data,max_temp)"
      ],
      "metadata": {
        "id": "cT-TXmxysGFF"
      },
      "execution_count": null,
      "outputs": []
    }
  ]
}
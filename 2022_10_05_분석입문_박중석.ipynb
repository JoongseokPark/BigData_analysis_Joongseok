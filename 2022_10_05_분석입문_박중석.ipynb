{
  "nbformat": 4,
  "nbformat_minor": 0,
  "metadata": {
    "colab": {
      "private_outputs": true,
      "provenance": [],
      "authorship_tag": "ABX9TyP8X8j6JcZtfhD8gz75sE20",
      "include_colab_link": true
    },
    "kernelspec": {
      "name": "python3",
      "display_name": "Python 3"
    },
    "language_info": {
      "name": "python"
    }
  },
  "cells": [
    {
      "cell_type": "markdown",
      "metadata": {
        "id": "view-in-github",
        "colab_type": "text"
      },
      "source": [
        "<a href=\"https://colab.research.google.com/github/JoongseokPark/BigData_analysis_Joongseok/blob/main/2022_10_05_%EB%B6%84%EC%84%9D%EC%9E%85%EB%AC%B8_%EB%B0%95%EC%A4%91%EC%84%9D.ipynb\" target=\"_parent\"><img src=\"https://colab.research.google.com/assets/colab-badge.svg\" alt=\"Open In Colab\"/></a>"
      ]
    },
    {
      "cell_type": "code",
      "execution_count": null,
      "metadata": {
        "id": "ai_yYfZRjIHO"
      },
      "outputs": [],
      "source": [
        "import csv\n",
        "import pandas\n",
        "import matplotlib.pyplot as plt"
      ]
    },
    {
      "cell_type": "code",
      "source": [
        "f = open(\"/content/sample_data/2022_sept_wonju_population.csv\", encoding='cp949')\n",
        "data = csv.reader(f)\n",
        "\n",
        "next(data)"
      ],
      "metadata": {
        "id": "pORZbsrulNGO"
      },
      "execution_count": null,
      "outputs": []
    },
    {
      "cell_type": "code",
      "source": [
        "f = open(\"/content/sample_data/2022_sept_wonju_population.csv\", encoding='cp949')\n",
        "data = csv.reader(f)\n",
        "\n",
        "next(data)\n",
        "\n",
        "musil = []\n",
        "bangok = []\n",
        "\n",
        "for row in data:\n",
        "  if \"무실\" in row[0]:\n",
        "    for i in row[3:]:\n",
        "      musil.append(int(i))\n",
        "\n",
        "  if \"반곡관설동\" in row[0]:\n",
        "    for i in row[3:]:\n",
        "      bangok.append(int(i))"
      ],
      "metadata": {
        "id": "22jBKhy7ljrC"
      },
      "execution_count": null,
      "outputs": []
    },
    {
      "cell_type": "code",
      "source": [
        "plt.plot(musil)\n",
        "plt.plot(bangok)"
      ],
      "metadata": {
        "id": "mDHhl-FAm77B"
      },
      "execution_count": null,
      "outputs": []
    },
    {
      "cell_type": "code",
      "source": [
        "#구역명 입력 받아 데이터 출력\n",
        "\n",
        "f = open(\"/content/sample_data/2022_sept_wonju_population.csv\", encoding='cp949')\n",
        "data = csv.reader(f)\n",
        "\n",
        "dong = []\n",
        "\n",
        "print(\"인구 정보 열람 원하는 동 입력\\n 원주 내 읍면동 이름 입력\\n\")\n",
        "name = input()\n",
        "\n",
        "for row in data:\n",
        "  if name in row[0]:\n",
        "    for i in row[3:]:\n",
        "      dong.append(int(i))\n",
        "\n",
        "plt.plot(dong,label=name)\n",
        "plt.legend()"
      ],
      "metadata": {
        "id": "Vrr2Fx5bpToI"
      },
      "execution_count": null,
      "outputs": []
    },
    {
      "cell_type": "code",
      "source": [
        "#성별 구분 인구 표기\n",
        "\n",
        "f = open(\"/content/sample_data/202209_wonju_population_gender.csv\", encoding='cp949')\n",
        "data = csv.reader(f)\n",
        "\n",
        "male = []\n",
        "female = []\n",
        "\n",
        "for row in data:\n",
        "  if '무실동' in row[0]:\n",
        "    for i in row[3:104]:\n",
        "      male.append(-int(i))\n",
        "    for i in row[106:]:\n",
        "      female.append(int(i))\n",
        "\n",
        "plt.figure(figsize = (10,10))\n",
        "plt.barh(range(101),male,color='skyblue',label='male')\n",
        "plt.barh(range(101),female,color='hotpink',label='female')\n",
        "plt.legend()\n",
        "plt.show()"
      ],
      "metadata": {
        "id": "6tVDijEZvNyd"
      },
      "execution_count": null,
      "outputs": []
    }
  ]
}